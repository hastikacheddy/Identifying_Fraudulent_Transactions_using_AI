{
  "cells": [
    {
      "cell_type": "markdown",
      "metadata": {
        "id": "view-in-github",
        "colab_type": "text"
      },
      "source": [
        "<a href=\"https://colab.research.google.com/github/hastikacheddy/Identifying_Fraudulent_Transactions_using_AI/blob/main/web_ui.ipynb\" target=\"_parent\"><img src=\"https://colab.research.google.com/assets/colab-badge.svg\" alt=\"Open In Colab\"/></a>"
      ]
    },
    {
      "cell_type": "code",
      "execution_count": null,
      "metadata": {
        "colab": {
          "base_uri": "https://localhost:8080/"
        },
        "id": "LIVbKNV3k2JE",
        "outputId": "de5771ec-c1c5-4beb-de7a-bf05621bd7e6"
      },
      "outputs": [
        {
          "output_type": "stream",
          "name": "stdout",
          "text": [
            "Collecting flask_ngrok\n",
            "  Downloading flask_ngrok-0.0.25-py3-none-any.whl (3.1 kB)\n",
            "Requirement already satisfied: Flask>=0.8 in /usr/local/lib/python3.10/dist-packages (from flask_ngrok) (2.2.5)\n",
            "Requirement already satisfied: requests in /usr/local/lib/python3.10/dist-packages (from flask_ngrok) (2.31.0)\n",
            "Requirement already satisfied: Werkzeug>=2.2.2 in /usr/local/lib/python3.10/dist-packages (from Flask>=0.8->flask_ngrok) (2.3.7)\n",
            "Requirement already satisfied: Jinja2>=3.0 in /usr/local/lib/python3.10/dist-packages (from Flask>=0.8->flask_ngrok) (3.1.2)\n",
            "Requirement already satisfied: itsdangerous>=2.0 in /usr/local/lib/python3.10/dist-packages (from Flask>=0.8->flask_ngrok) (2.1.2)\n",
            "Requirement already satisfied: click>=8.0 in /usr/local/lib/python3.10/dist-packages (from Flask>=0.8->flask_ngrok) (8.1.7)\n",
            "Requirement already satisfied: charset-normalizer<4,>=2 in /usr/local/lib/python3.10/dist-packages (from requests->flask_ngrok) (3.2.0)\n",
            "Requirement already satisfied: idna<4,>=2.5 in /usr/local/lib/python3.10/dist-packages (from requests->flask_ngrok) (3.4)\n",
            "Requirement already satisfied: urllib3<3,>=1.21.1 in /usr/local/lib/python3.10/dist-packages (from requests->flask_ngrok) (2.0.4)\n",
            "Requirement already satisfied: certifi>=2017.4.17 in /usr/local/lib/python3.10/dist-packages (from requests->flask_ngrok) (2023.7.22)\n",
            "Requirement already satisfied: MarkupSafe>=2.0 in /usr/local/lib/python3.10/dist-packages (from Jinja2>=3.0->Flask>=0.8->flask_ngrok) (2.1.3)\n",
            "Installing collected packages: flask_ngrok\n",
            "Successfully installed flask_ngrok-0.0.25\n"
          ]
        }
      ],
      "source": [
        "!pip install flask_ngrok\n"
      ]
    },
    {
      "cell_type": "code",
      "execution_count": null,
      "metadata": {
        "colab": {
          "base_uri": "https://localhost:8080/"
        },
        "id": "9q66ou8eFkcx",
        "outputId": "cb202aaf-3331-4698-9e83-b4af8c765964"
      },
      "outputs": [
        {
          "output_type": "stream",
          "name": "stdout",
          "text": [
            "--2023-08-28 07:00:25--  https://bin.equinox.io/c/4VmDzA7iaHb/ngrok-stable-linux-amd64.zip\n",
            "Resolving bin.equinox.io (bin.equinox.io)... 18.205.222.128, 54.237.133.81, 52.202.168.65, ...\n",
            "Connecting to bin.equinox.io (bin.equinox.io)|18.205.222.128|:443... connected.\n",
            "HTTP request sent, awaiting response... 200 OK\n",
            "Length: 13921656 (13M) [application/octet-stream]\n",
            "Saving to: ‘ngrok-stable-linux-amd64.zip’\n",
            "\n",
            "ngrok-stable-linux- 100%[===================>]  13.28M  19.1MB/s    in 0.7s    \n",
            "\n",
            "2023-08-28 07:00:26 (19.1 MB/s) - ‘ngrok-stable-linux-amd64.zip’ saved [13921656/13921656]\n",
            "\n",
            "Archive:  ngrok-stable-linux-amd64.zip\n",
            "  inflating: ngrok                   \n"
          ]
        }
      ],
      "source": [
        "!wget https://bin.equinox.io/c/4VmDzA7iaHb/ngrok-stable-linux-amd64.zip\n",
        "!unzip ngrok-stable-linux-amd64.zip\n"
      ]
    },
    {
      "cell_type": "code",
      "execution_count": null,
      "metadata": {
        "colab": {
          "base_uri": "https://localhost:8080/"
        },
        "id": "n1QIoyAsFxtE",
        "outputId": "996ffc7d-0ab4-4132-f012-181ab5a53051"
      },
      "outputs": [
        {
          "output_type": "stream",
          "name": "stdout",
          "text": [
            "Authtoken saved to configuration file: /root/.ngrok2/ngrok.yml\n"
          ]
        }
      ],
      "source": [
        "!./ngrok authtoken [your authtoken]\n"
      ]
    },
    {
      "cell_type": "code",
      "execution_count": null,
      "metadata": {
        "id": "OVtHoaUUAd3W"
      },
      "outputs": [],
      "source": [
        "from google.colab import files\n"
      ]
    },
    {
      "cell_type": "code",
      "execution_count": null,
      "metadata": {
        "colab": {
          "base_uri": "https://localhost:8080/"
        },
        "id": "21HaJwNdA-3h",
        "outputId": "06d4a39d-164c-4ae7-c596-75baea5306e5"
      },
      "outputs": [
        {
          "output_type": "stream",
          "name": "stdout",
          "text": [
            "/content/drive/MyDrive/Colab Notebooks/templates\n",
            "[08:01:20] WARNING: ../src/learner.cc:553: \n",
            "  If you are loading a serialized model (like pickle in Python, RDS in R) generated by\n",
            "  older XGBoost, please export the model by calling `Booster.save_model` from that version\n",
            "  first, then load it back in current version. See:\n",
            "\n",
            "    https://xgboost.readthedocs.io/en/latest/tutorials/saving_model.html\n",
            "\n",
            "  for more details about differences between saving model and serializing.\n",
            "\n",
            " * Serving Flask app '__main__'\n",
            " * Debug mode: off\n"
          ]
        },
        {
          "output_type": "stream",
          "name": "stderr",
          "text": [
            "INFO:werkzeug:\u001b[31m\u001b[1mWARNING: This is a development server. Do not use it in a production deployment. Use a production WSGI server instead.\u001b[0m\n",
            " * Running on http://127.0.0.1:5000\n",
            "INFO:werkzeug:\u001b[33mPress CTRL+C to quit\u001b[0m\n"
          ]
        },
        {
          "output_type": "stream",
          "name": "stdout",
          "text": [
            " * Running on http://2c27-35-197-103-75.ngrok-free.app\n",
            " * Traffic stats available on http://127.0.0.1:4040\n"
          ]
        },
        {
          "output_type": "stream",
          "name": "stderr",
          "text": [
            "INFO:werkzeug:127.0.0.1 - - [28/Aug/2023 08:01:32] \"GET / HTTP/1.1\" 200 -\n",
            "INFO:werkzeug:127.0.0.1 - - [28/Aug/2023 08:01:33] \"GET /static/setting2.css HTTP/1.1\" 200 -\n",
            "INFO:werkzeug:127.0.0.1 - - [28/Aug/2023 08:01:34] \"GET /static/editprofile.png HTTP/1.1\" 200 -\n",
            "INFO:werkzeug:127.0.0.1 - - [28/Aug/2023 08:01:34] \"\u001b[33mGET /favicon.ico HTTP/1.1\u001b[0m\" 404 -\n",
            "INFO:werkzeug:127.0.0.1 - - [28/Aug/2023 08:01:36] \"\u001b[33mGET /favicon.ico HTTP/1.1\u001b[0m\" 404 -\n",
            "INFO:werkzeug:127.0.0.1 - - [28/Aug/2023 08:01:36] \"\u001b[33mGET /favicon.ico HTTP/1.1\u001b[0m\" 404 -\n",
            "INFO:werkzeug:127.0.0.1 - - [28/Aug/2023 08:02:31] \"POST / HTTP/1.1\" 200 -\n",
            "INFO:werkzeug:127.0.0.1 - - [28/Aug/2023 08:02:32] \"\u001b[36mGET /static/setting2.css HTTP/1.1\u001b[0m\" 304 -\n",
            "INFO:werkzeug:127.0.0.1 - - [28/Aug/2023 08:02:32] \"\u001b[36mGET /static/editprofile.png HTTP/1.1\u001b[0m\" 304 -\n",
            "INFO:werkzeug:127.0.0.1 - - [28/Aug/2023 08:02:33] \"\u001b[33mGET /favicon.ico HTTP/1.1\u001b[0m\" 404 -\n",
            "INFO:werkzeug:127.0.0.1 - - [28/Aug/2023 08:02:35] \"\u001b[33mGET /favicon.ico HTTP/1.1\u001b[0m\" 404 -\n",
            "INFO:werkzeug:127.0.0.1 - - [28/Aug/2023 08:03:15] \"POST / HTTP/1.1\" 200 -\n",
            "INFO:werkzeug:127.0.0.1 - - [28/Aug/2023 08:03:15] \"\u001b[36mGET /static/setting2.css HTTP/1.1\u001b[0m\" 304 -\n",
            "INFO:werkzeug:127.0.0.1 - - [28/Aug/2023 08:03:16] \"\u001b[36mGET /static/editprofile.png HTTP/1.1\u001b[0m\" 304 -\n",
            "INFO:werkzeug:127.0.0.1 - - [28/Aug/2023 08:03:16] \"\u001b[33mGET /favicon.ico HTTP/1.1\u001b[0m\" 404 -\n",
            "INFO:werkzeug:127.0.0.1 - - [28/Aug/2023 08:03:18] \"\u001b[33mGET /favicon.ico HTTP/1.1\u001b[0m\" 404 -\n"
          ]
        }
      ],
      "source": [
        "import flask\n",
        "from flask import Flask, render_template, request\n",
        "import pickle\n",
        "import numpy as np\n",
        "from flask_ngrok import run_with_ngrok\n",
        "import warnings\n",
        "warnings.filterwarnings('ignore')\n",
        "import logging\n",
        "from logging.handlers import RotatingFileHandler\n",
        "\n",
        "\n",
        "\n",
        "app = Flask(__name__,template_folder=\"/content/drive/MyDrive/Colab Notebooks/templates\", static_folder=\"/content/drive/MyDrive/Colab Notebooks/static\")\n",
        "print(app.template_folder)\n",
        "run_with_ngrok(app)\n",
        "\n",
        "model = pickle.load(open('/content/drive/MyDrive/Colab Notebooks/model2.pkl', 'rb'))\n",
        "\n",
        "@app.route('/', methods=['GET'])\n",
        "def home():\n",
        "    return render_template('setting2.html')\n",
        "\n",
        "@app.route('/', methods=[\"POST\"])\n",
        "def predict():\n",
        "    input_values = []\n",
        "    for value in request.form.values():\n",
        "        try:\n",
        "            input_values.append(float(value))\n",
        "        except ValueError:\n",
        "            pass\n",
        "    inp_features = [input_values]\n",
        "        # convert the input features to a numpy array\n",
        "    input_features = np.array(inp_features).reshape(1, -1)\n",
        "\n",
        "    # make predictions\n",
        "    prediction_proba = model.predict_proba(input_features)\n",
        "    prediction = prediction_proba[0][1] # probability for the fraudulent class\n",
        "\n",
        "\n",
        "    if prediction >= 0.5:\n",
        "         prediction_text = 'fraudulent'\n",
        "         result = round(prediction * 100, 2)\n",
        "         return render_template('setting2.html', prediction_text=prediction_text, result=result)\n",
        "    else:\n",
        "         prediction_text = 'non-fraudulent'\n",
        "         result = round((1 - prediction) * 100, 2)\n",
        "         return render_template('setting2.html', prediction_text=prediction_text, result=result)\n",
        "\n",
        "\n",
        "\n",
        "\n",
        "handler = RotatingFileHandler('app.log', maxBytes=10000, backupCount=1)\n",
        "handler.setLevel(logging.INFO)\n",
        "app.logger.addHandler(handler)\n",
        "\n",
        "if __name__ == '__main__':\n",
        "    app.run()\n",
        "\n"
      ]
    }
  ],
  "metadata": {
    "colab": {
      "provenance": [],
      "mount_file_id": "1tjEkhpXScjW1KQ1AK6No7HDjTe4cwb23",
      "authorship_tag": "ABX9TyMUpHU2jcy8ruA5QHhJP5D5",
      "include_colab_link": true
    },
    "kernelspec": {
      "display_name": "Python 3",
      "name": "python3"
    },
    "language_info": {
      "name": "python"
    }
  },
  "nbformat": 4,
  "nbformat_minor": 0
}